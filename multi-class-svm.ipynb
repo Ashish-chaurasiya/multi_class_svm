{
 "cells": [
  {
   "cell_type": "code",
   "execution_count": 1,
   "id": "subtle-settlement",
   "metadata": {
    "_cell_guid": "b1076dfc-b9ad-4769-8c92-a6c4dae69d19",
    "_uuid": "8f2839f25d086af736a60e9eeb907d3b93b6e0e5",
    "execution": {
     "iopub.execute_input": "2021-05-28T06:48:29.388760Z",
     "iopub.status.busy": "2021-05-28T06:48:29.388208Z",
     "iopub.status.idle": "2021-05-28T06:48:36.201533Z",
     "shell.execute_reply": "2021-05-28T06:48:36.202443Z",
     "shell.execute_reply.started": "2021-05-28T06:39:51.382375Z"
    },
    "papermill": {
     "duration": 6.825902,
     "end_time": "2021-05-28T06:48:36.202831",
     "exception": false,
     "start_time": "2021-05-28T06:48:29.376929",
     "status": "completed"
    },
    "tags": []
   },
   "outputs": [
    {
     "name": "stdout",
     "output_type": "stream",
     "text": [
      "['rottenbanana', 'freshoranges', 'rottenoranges', 'freshbanana', 'rottenapples', 'freshapples']\n"
     ]
    }
   ],
   "source": [
    "import sklearn\n",
    "import numpy as np \n",
    "import pandas as pd \n",
    "import matplotlib.pyplot as plt\n",
    "%matplotlib inline\n",
    "import tensorflow as tf\n",
    "import keras\n",
    "import glob\n",
    "import cv2\n",
    "import os\n",
    "print(os.listdir(\"../input/fruits-fresh-and-rotten-for-classification/dataset/train/\"))"
   ]
  },
  {
   "cell_type": "code",
   "execution_count": 2,
   "id": "characteristic-owner",
   "metadata": {
    "execution": {
     "iopub.execute_input": "2021-05-28T06:48:36.227374Z",
     "iopub.status.busy": "2021-05-28T06:48:36.226794Z",
     "iopub.status.idle": "2021-05-28T06:51:02.046800Z",
     "shell.execute_reply": "2021-05-28T06:51:02.046247Z",
     "shell.execute_reply.started": "2021-05-28T06:42:23.267416Z"
    },
    "papermill": {
     "duration": 145.83524,
     "end_time": "2021-05-28T06:51:02.046967",
     "exception": false,
     "start_time": "2021-05-28T06:48:36.211727",
     "status": "completed"
    },
    "tags": []
   },
   "outputs": [],
   "source": [
    "fruit_images = []\n",
    "labels = [] \n",
    "for fruit_dir_path in glob.glob(\"../input/fruits-fresh-and-rotten-for-classification/dataset/train/*\"):\n",
    "    fruit_label = fruit_dir_path.split(\"/\")[-1]\n",
    "    for image_path in glob.glob(os.path.join(fruit_dir_path, \"*.png\")):\n",
    "        image = cv2.imread(image_path, cv2.IMREAD_COLOR)\n",
    "        image = cv2.resize(image, (110, 110))\n",
    "        image = cv2.cvtColor(image, cv2.COLOR_RGB2GRAY) \n",
    "        fruit_images.append(image)\n",
    "        labels.append(fruit_label)\n",
    "fruit_images = np.array(fruit_images)\n",
    "fruit_images = fruit_images.reshape(len(fruit_images),-1)\n",
    "labels = np.array(labels)"
   ]
  },
  {
   "cell_type": "code",
   "execution_count": 3,
   "id": "thorough-dining",
   "metadata": {
    "execution": {
     "iopub.execute_input": "2021-05-28T06:51:02.068133Z",
     "iopub.status.busy": "2021-05-28T06:51:02.067218Z",
     "iopub.status.idle": "2021-05-28T06:51:02.070184Z",
     "shell.execute_reply": "2021-05-28T06:51:02.070613Z",
     "shell.execute_reply.started": "2021-05-28T06:44:58.657126Z"
    },
    "papermill": {
     "duration": 0.016047,
     "end_time": "2021-05-28T06:51:02.070794",
     "exception": false,
     "start_time": "2021-05-28T06:51:02.054747",
     "status": "completed"
    },
    "tags": []
   },
   "outputs": [
    {
     "name": "stdout",
     "output_type": "stream",
     "text": [
      "(10901, 12100)\n"
     ]
    }
   ],
   "source": [
    "print(np.shape(fruit_images))"
   ]
  },
  {
   "cell_type": "code",
   "execution_count": 4,
   "id": "prerequisite-yesterday",
   "metadata": {
    "execution": {
     "iopub.execute_input": "2021-05-28T06:51:02.091581Z",
     "iopub.status.busy": "2021-05-28T06:51:02.091032Z",
     "iopub.status.idle": "2021-05-28T06:51:42.527902Z",
     "shell.execute_reply": "2021-05-28T06:51:42.528381Z",
     "shell.execute_reply.started": "2021-05-28T06:45:02.065961Z"
    },
    "papermill": {
     "duration": 40.449499,
     "end_time": "2021-05-28T06:51:42.528551",
     "exception": false,
     "start_time": "2021-05-28T06:51:02.079052",
     "status": "completed"
    },
    "tags": []
   },
   "outputs": [
    {
     "data": {
      "text/plain": [
       "RandomForestClassifier(max_depth=9, random_state=0)"
      ]
     },
     "execution_count": 4,
     "metadata": {},
     "output_type": "execute_result"
    }
   ],
   "source": [
    "from sklearn import svm\n",
    "from sklearn.ensemble import RandomForestClassifier\n",
    "#clf = svm.SVC(decision_function_shape='ovo')\n",
    "#clf = svm.SVC()\n",
    "clf=RandomForestClassifier(max_depth=9, random_state=0)\n",
    "clf.fit(fruit_images, labels)"
   ]
  },
  {
   "cell_type": "code",
   "execution_count": 5,
   "id": "empirical-cross",
   "metadata": {
    "execution": {
     "iopub.execute_input": "2021-05-28T06:51:42.547116Z",
     "iopub.status.busy": "2021-05-28T06:51:42.546532Z",
     "iopub.status.idle": "2021-05-28T06:52:14.105422Z",
     "shell.execute_reply": "2021-05-28T06:52:14.105876Z",
     "shell.execute_reply.started": "2021-05-28T06:46:36.366516Z"
    },
    "papermill": {
     "duration": 31.569731,
     "end_time": "2021-05-28T06:52:14.106031",
     "exception": false,
     "start_time": "2021-05-28T06:51:42.536300",
     "status": "completed"
    },
    "tags": []
   },
   "outputs": [
    {
     "data": {
      "image/png": "[encoded data removed]",
      "text/plain": [
       "<Figure size 432x288 with 1 Axes>"
      ]
     },
     "metadata": {
      "needs_background": "light"
     },
     "output_type": "display_data"
    }
   ],
   "source": [
    "import matplotlib.pyplot as plt\n",
    "validation_fruit_images = []\n",
    "validation_labels = [] \n",
    "for fruit_dir_path in glob.glob(\"../input/fruits-fresh-and-rotten-for-classification/dataset/test/*\"):\n",
    "    fruit_label = fruit_dir_path.split(\"/\")[-1]\n",
    "    for image_path in glob.glob(os.path.join(fruit_dir_path, \"*.png\")):\n",
    "        image = cv2.imread(image_path, cv2.IMREAD_COLOR)\n",
    "        image = cv2.resize(image, (110, 110))\n",
    "        image = cv2.cvtColor(image, cv2.COLOR_RGB2GRAY)\n",
    "        #image = cv2.cvtColor(image, cv2.COLOR_RGB2BGR)\n",
    "        validation_fruit_images.append(image)\n",
    "        validation_labels.append(fruit_label)\n",
    "validation_fruit_images = np.array(validation_fruit_images)\n",
    "plt.imshow(cv2.cvtColor(validation_fruit_images[1], cv2.COLOR_GRAY2RGB))\n",
    "plt.show()\n",
    "#cv2.imshow(validation_fruit_images[1])\n",
    "validation_fruit_images = validation_fruit_images.reshape(len(validation_fruit_images),-1)\n",
    "validation_labels = np.array(validation_labels)"
   ]
  },
  {
   "cell_type": "code",
   "execution_count": 6,
   "id": "legitimate-withdrawal",
   "metadata": {
    "execution": {
     "iopub.execute_input": "2021-05-28T06:52:14.126569Z",
     "iopub.status.busy": "2021-05-28T06:52:14.126020Z",
     "iopub.status.idle": "2021-05-28T06:52:14.130591Z",
     "shell.execute_reply": "2021-05-28T06:52:14.131018Z",
     "shell.execute_reply.started": "2021-05-28T06:47:23.477230Z"
    },
    "papermill": {
     "duration": 0.016588,
     "end_time": "2021-05-28T06:52:14.131170",
     "exception": false,
     "start_time": "2021-05-28T06:52:14.114582",
     "status": "completed"
    },
    "tags": []
   },
   "outputs": [
    {
     "name": "stdout",
     "output_type": "stream",
     "text": [
      "(2698, 12100)\n"
     ]
    }
   ],
   "source": [
    "print(np.shape(validation_fruit_images))\n"
   ]
  },
  {
   "cell_type": "code",
   "execution_count": 7,
   "id": "collaborative-track",
   "metadata": {
    "execution": {
     "iopub.execute_input": "2021-05-28T06:52:14.158459Z",
     "iopub.status.busy": "2021-05-28T06:52:14.157800Z",
     "iopub.status.idle": "2021-05-28T06:52:14.268321Z",
     "shell.execute_reply": "2021-05-28T06:52:14.268783Z",
     "shell.execute_reply.started": "2021-05-28T06:47:27.671457Z"
    },
    "papermill": {
     "duration": 0.128879,
     "end_time": "2021-05-28T06:52:14.268952",
     "exception": false,
     "start_time": "2021-05-28T06:52:14.140073",
     "status": "completed"
    },
    "tags": []
   },
   "outputs": [
    {
     "name": "stdout",
     "output_type": "stream",
     "text": [
      "[255 255 255 ... 255 255 255]\n",
      "rottenbanana\n",
      "[255 255 255 ... 255 255 255]\n",
      "rottenbanana\n",
      "['rottenbanana'] correct label rottenbanana\n",
      "['rottenbanana'] correct label rottenbanana\n",
      "['rottenbanana'] correct label rottenbanana\n",
      "['rottenbanana'] correct label rottenbanana\n",
      "['rottenapples'] correct label rottenbanana\n",
      "['rottenbanana'] correct label rottenbanana\n",
      "['rottenbanana'] correct label rottenbanana\n",
      "['rottenbanana'] correct label rottenbanana\n",
      "['rottenbanana'] correct label rottenbanana\n",
      "['rottenbanana'] correct label rottenbanana\n"
     ]
    }
   ],
   "source": [
    "print(validation_fruit_images[9])\n",
    "print(validation_labels[9])\n",
    "print(fruit_images[9])\n",
    "print(labels[9])\n",
    "for i in range(1,298,30):\n",
    "    check=clf.predict([fruit_images[i]])\n",
    "    print(check,\"correct label\", labels[i])"
   ]
  },
  {
   "cell_type": "code",
   "execution_count": 8,
   "id": "drawn-bicycle",
   "metadata": {
    "execution": {
     "iopub.execute_input": "2021-05-28T06:52:14.292122Z",
     "iopub.status.busy": "2021-05-28T06:52:14.291491Z",
     "iopub.status.idle": "2021-05-28T06:52:14.295152Z",
     "shell.execute_reply": "2021-05-28T06:52:14.295522Z",
     "shell.execute_reply.started": "2021-05-28T06:47:37.250985Z"
    },
    "papermill": {
     "duration": 0.017543,
     "end_time": "2021-05-28T06:52:14.295718",
     "exception": false,
     "start_time": "2021-05-28T06:52:14.278175",
     "status": "completed"
    },
    "tags": []
   },
   "outputs": [
    {
     "name": "stdout",
     "output_type": "stream",
     "text": [
      "(2698, 12100)\n"
     ]
    }
   ],
   "source": [
    "print(np.shape(validation_fruit_images))\n"
   ]
  },
  {
   "cell_type": "code",
   "execution_count": 9,
   "id": "every-desert",
   "metadata": {
    "execution": {
     "iopub.execute_input": "2021-05-28T06:52:14.328726Z",
     "iopub.status.busy": "2021-05-28T06:52:14.323213Z",
     "iopub.status.idle": "2021-05-28T06:52:37.253811Z",
     "shell.execute_reply": "2021-05-28T06:52:37.253318Z",
     "shell.execute_reply.started": "2021-05-28T06:47:41.275742Z"
    },
    "papermill": {
     "duration": 22.948589,
     "end_time": "2021-05-28T06:52:37.253984",
     "exception": false,
     "start_time": "2021-05-28T06:52:14.305395",
     "status": "completed"
    },
    "tags": []
   },
   "outputs": [
    {
     "name": "stdout",
     "output_type": "stream",
     "text": [
      "2113\n",
      "Accuracy is  0.7831727205337287\n"
     ]
    }
   ],
   "source": [
    "count=0 \n",
    "total = np.shape(validation_fruit_images)[0]\n",
    "#print(total)\n",
    "for i in range(total):\n",
    "    check=clf.predict([validation_fruit_images[i]])\n",
    "    if check[0] == validation_labels[i] :\n",
    "        count += 1\n",
    "print(count)\n",
    "print(\"Accuracy is \", count/total)"
   ]
  },
  {
   "cell_type": "code",
   "execution_count": null,
   "id": "monetary-mistake",
   "metadata": {
    "papermill": {
     "duration": 0.009438,
     "end_time": "2021-05-28T06:52:37.273383",
     "exception": false,
     "start_time": "2021-05-28T06:52:37.263945",
     "status": "completed"
    },
    "tags": []
   },
   "outputs": [],
   "source": []
  },
  {
   "cell_type": "code",
   "execution_count": null,
   "id": "sharp-poultry",
   "metadata": {
    "papermill": {
     "duration": 0.009458,
     "end_time": "2021-05-28T06:52:37.292575",
     "exception": false,
     "start_time": "2021-05-28T06:52:37.283117",
     "status": "completed"
    },
    "tags": []
   },
   "outputs": [],
   "source": []
  }
 ],
 "metadata": {
  "kernelspec": {
   "display_name": "Python 3",
   "language": "python",
   "name": "python3"
  },
  "language_info": {
   "codemirror_mode": {
    "name": "ipython",
    "version": 3
   },
   "file_extension": ".py",
   "mimetype": "text/x-python",
   "name": "python",
   "nbconvert_exporter": "python",
   "pygments_lexer": "ipython3",
   "version": "3.7.9"
  },
  "papermill": {
   "default_parameters": {},
   "duration": 254.829798,
   "end_time": "2021-05-28T06:52:38.312243",
   "environment_variables": {},
   "exception": null,
   "input_path": "__notebook__.ipynb",
   "output_path": "__notebook__.ipynb",
   "parameters": {},
   "start_time": "2021-05-28T06:48:23.482445",
   "version": "2.3.2"
  }
 },
 "nbformat": 4,
 "nbformat_minor": 5
}
